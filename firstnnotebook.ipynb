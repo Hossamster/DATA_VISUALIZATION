{
 "cells": [
  {
   "cell_type": "code",
   "execution_count": 2,
   "id": "9898c073",
   "metadata": {},
   "outputs": [
    {
     "data": {
      "text/plain": [
       "0.45454545454545453"
      ]
     },
     "execution_count": 2,
     "metadata": {},
     "output_type": "execute_result"
    }
   ],
   "source": [
    "15/33"
   ]
  },
  {
   "cell_type": "code",
   "execution_count": 3,
   "id": "d771cfd3",
   "metadata": {},
   "outputs": [
    {
     "data": {
      "text/plain": [
       "'hahahahahahahahahahahahahahahahahahahahahahahahahahahahahahahahahaha'"
      ]
     },
     "execution_count": 3,
     "metadata": {},
     "output_type": "execute_result"
    }
   ],
   "source": [
    "'ha' * 34"
   ]
  },
  {
   "cell_type": "code",
   "execution_count": 11,
   "id": "a1fcee87",
   "metadata": {},
   "outputs": [],
   "source": [
    "hossam= \"hassan\""
   ]
  },
  {
   "cell_type": "code",
   "execution_count": 8,
   "id": "4ceafcab",
   "metadata": {},
   "outputs": [
    {
     "data": {
      "text/plain": [
       "'hassan'"
      ]
     },
     "execution_count": 8,
     "metadata": {},
     "output_type": "execute_result"
    }
   ],
   "source": [
    "hossam"
   ]
  },
  {
   "cell_type": "code",
   "execution_count": 10,
   "id": "bec58c0c",
   "metadata": {},
   "outputs": [
    {
     "data": {
      "text/plain": [
       "423"
      ]
     },
     "execution_count": 10,
     "metadata": {},
     "output_type": "execute_result"
    }
   ],
   "source": [
    "color = \"teal\"\n",
    "54-1\n",
    "400+23"
   ]
  },
  {
   "cell_type": "code",
   "execution_count": 20,
   "id": "1cbb6e6e",
   "metadata": {},
   "outputs": [
    {
     "data": {
      "text/plain": [
       "'hello_world'"
      ]
     },
     "execution_count": 20,
     "metadata": {},
     "output_type": "execute_result"
    }
   ],
   "source": [
    "str"
   ]
  },
  {
   "cell_type": "code",
   "execution_count": 30,
   "id": "3e840b8a",
   "metadata": {},
   "outputs": [],
   "source": [
    "str = \"hello_world\""
   ]
  },
  {
   "cell_type": "code",
   "execution_count": 19,
   "id": "ea55133a",
   "metadata": {},
   "outputs": [
    {
     "data": {
      "text/plain": [
       "'hello_world'"
      ]
     },
     "execution_count": 19,
     "metadata": {},
     "output_type": "execute_result"
    }
   ],
   "source": [
    "str"
   ]
  },
  {
   "cell_type": "markdown",
   "id": "06fb0d74",
   "metadata": {},
   "source": [
    "a for above cell\n",
    "b for below cell\n",
    "v for paste cell down\n",
    "shift v for paste cell up\n",
    "dd for delete cell\n",
    "x for cut cell\n"
   ]
  },
  {
   "cell_type": "code",
   "execution_count": null,
   "id": "698ca3d4",
   "metadata": {},
   "outputs": [],
   "source": [
    "##################"
   ]
  },
  {
   "cell_type": "code",
   "execution_count": null,
   "id": "d156f168",
   "metadata": {},
   "outputs": [],
   "source": [
    "####################"
   ]
  },
  {
   "cell_type": "code",
   "execution_count": null,
   "id": "a40a08d8",
   "metadata": {},
   "outputs": [],
   "source": []
  },
  {
   "cell_type": "markdown",
   "id": "b73b738c",
   "metadata": {},
   "source": [
    "# Lecture 1.2 \n",
    "## level 2 heading\n",
    "* bullet 1 \n",
    "* bullet 2"
   ]
  },
  {
   "cell_type": "markdown",
   "id": "eda4966e",
   "metadata": {},
   "source": [
    "# elberns\n",
    "## saytara \n",
    "### el shabab henna \n",
    "#### hello world \n",
    "##### marhaba \n",
    "###### lol"
   ]
  },
  {
   "cell_type": "code",
   "execution_count": 2,
   "id": "dde51287",
   "metadata": {},
   "outputs": [],
   "source": [
    "hossam = 'hello'"
   ]
  },
  {
   "cell_type": "code",
   "execution_count": null,
   "id": "56906637",
   "metadata": {},
   "outputs": [],
   "source": [
    "hossam = 'lol'"
   ]
  },
  {
   "cell_type": "code",
   "execution_count": null,
   "id": "3eaf47af",
   "metadata": {},
   "outputs": [],
   "source": [
    "dfasjhd= 'dksajjh'"
   ]
  },
  {
   "cell_type": "code",
   "execution_count": null,
   "id": "fa67caac",
   "metadata": {},
   "outputs": [],
   "source": [
    "khndfsja= 23"
   ]
  }
 ],
 "metadata": {
  "kernelspec": {
   "display_name": "Python 3.10.5 64-bit",
   "language": "python",
   "name": "python3"
  },
  "language_info": {
   "codemirror_mode": {
    "name": "ipython",
    "version": 3
   },
   "file_extension": ".py",
   "mimetype": "text/x-python",
   "name": "python",
   "nbconvert_exporter": "python",
   "pygments_lexer": "ipython3",
   "version": "3.10.5"
  },
  "vscode": {
   "interpreter": {
    "hash": "2f14a0dd570c6c44b2827768b26990368ffeedb95ff3d0ee917da5129c89f8f8"
   }
  }
 },
 "nbformat": 4,
 "nbformat_minor": 5
}
