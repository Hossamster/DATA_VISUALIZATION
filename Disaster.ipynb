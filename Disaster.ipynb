{
 "cells": [
  {
   "cell_type": "markdown",
   "id": "b8f581ca",
   "metadata": {},
   "source": [
    "sa3at hateb2a me7tag te3mel restart lel kernel"
   ]
  },
  {
   "cell_type": "code",
   "execution_count": 2,
   "id": "0fdcaa35",
   "metadata": {},
   "outputs": [
    {
     "data": {
      "text/plain": [
       "9"
      ]
     },
     "execution_count": 2,
     "metadata": {},
     "output_type": "execute_result"
    }
   ],
   "source": [
    "4+5"
   ]
  },
  {
   "cell_type": "code",
   "execution_count": 3,
   "id": "71c5023d",
   "metadata": {},
   "outputs": [],
   "source": [
    "hoss = 'hossam'"
   ]
  },
  {
   "cell_type": "code",
   "execution_count": 4,
   "id": "beba392e",
   "metadata": {},
   "outputs": [
    {
     "data": {
      "text/plain": [
       "'hossam'"
      ]
     },
     "execution_count": 4,
     "metadata": {},
     "output_type": "execute_result"
    }
   ],
   "source": [
    "hoss"
   ]
  },
  {
   "cell_type": "markdown",
   "id": "7dc64bf1",
   "metadata": {},
   "source": [
    "# ############\n",
    "\n"
   ]
  },
  {
   "cell_type": "code",
   "execution_count": 10,
   "id": "4955c10a",
   "metadata": {
    "scrolled": true
   },
   "outputs": [
    {
     "data": {
      "text/plain": [
       "'cuttlefisgcuttlefisgcuttlefisgcuttlefisgcuttlefisgcuttlefisgcuttlefisgcuttlefisgcuttlefisgcuttlefisg'"
      ]
     },
     "execution_count": 10,
     "metadata": {},
     "output_type": "execute_result"
    }
   ],
   "source": [
    "animal * 10"
   ]
  },
  {
   "cell_type": "code",
   "execution_count": 6,
   "id": "8a5aaba6",
   "metadata": {},
   "outputs": [],
   "source": [
    "animal ='cuttlefisg'"
   ]
  },
  {
   "cell_type": "code",
   "execution_count": 7,
   "id": "949603c3",
   "metadata": {},
   "outputs": [
    {
     "data": {
      "text/plain": [
       "'cuttlefisgcuttlefisg'"
      ]
     },
     "execution_count": 7,
     "metadata": {},
     "output_type": "execute_result"
    }
   ],
   "source": [
    "animal * 2"
   ]
  },
  {
   "cell_type": "code",
   "execution_count": 8,
   "id": "45e3db66",
   "metadata": {},
   "outputs": [
    {
     "data": {
      "text/plain": [
       "'cuttlefisgnuggetz'"
      ]
     },
     "execution_count": 8,
     "metadata": {},
     "output_type": "execute_result"
    }
   ],
   "source": [
    "animal + 'nuggetz'"
   ]
  },
  {
   "cell_type": "code",
   "execution_count": 11,
   "id": "be3b632c",
   "metadata": {},
   "outputs": [
    {
     "data": {
      "text/plain": [
       "['__add__',\n",
       " '__class__',\n",
       " '__contains__',\n",
       " '__delattr__',\n",
       " '__delitem__',\n",
       " '__dir__',\n",
       " '__doc__',\n",
       " '__eq__',\n",
       " '__format__',\n",
       " '__ge__',\n",
       " '__getattribute__',\n",
       " '__getitem__',\n",
       " '__gt__',\n",
       " '__hash__',\n",
       " '__iadd__',\n",
       " '__imul__',\n",
       " '__init__',\n",
       " '__init_subclass__',\n",
       " '__iter__',\n",
       " '__le__',\n",
       " '__len__',\n",
       " '__lt__',\n",
       " '__mul__',\n",
       " '__ne__',\n",
       " '__new__',\n",
       " '__reduce__',\n",
       " '__reduce_ex__',\n",
       " '__repr__',\n",
       " '__reversed__',\n",
       " '__rmul__',\n",
       " '__setattr__',\n",
       " '__setitem__',\n",
       " '__sizeof__',\n",
       " '__str__',\n",
       " '__subclasshook__',\n",
       " 'append',\n",
       " 'clear',\n",
       " 'copy',\n",
       " 'count',\n",
       " 'extend',\n",
       " 'index',\n",
       " 'insert',\n",
       " 'pop',\n",
       " 'remove',\n",
       " 'reverse',\n",
       " 'sort']"
      ]
     },
     "execution_count": 11,
     "metadata": {},
     "output_type": "execute_result"
    }
   ],
   "source": [
    "dir(list)"
   ]
  },
  {
   "cell_type": "code",
   "execution_count": 12,
   "id": "20bec1c2",
   "metadata": {},
   "outputs": [],
   "source": [
    "import statistics\n"
   ]
  },
  {
   "cell_type": "code",
   "execution_count": 22,
   "id": "088c99b7",
   "metadata": {},
   "outputs": [],
   "source": [
    "# statistics?\n",
    "import pandas as pd"
   ]
  },
  {
   "cell_type": "code",
   "execution_count": 21,
   "id": "c9a52728",
   "metadata": {},
   "outputs": [],
   "source": [
    "pd.read_csv"
   ]
  },
  {
   "cell_type": "code",
   "execution_count": null,
   "id": "3972afdd",
   "metadata": {},
   "outputs": [],
   "source": []
  }
 ],
 "metadata": {
  "kernelspec": {
   "display_name": "Python 3.10.5 64-bit",
   "language": "python",
   "name": "python3"
  },
  "language_info": {
   "codemirror_mode": {
    "name": "ipython",
    "version": 3
   },
   "file_extension": ".py",
   "mimetype": "text/x-python",
   "name": "python",
   "nbconvert_exporter": "python",
   "pygments_lexer": "ipython3",
   "version": "3.10.5"
  },
  "vscode": {
   "interpreter": {
    "hash": "2f14a0dd570c6c44b2827768b26990368ffeedb95ff3d0ee917da5129c89f8f8"
   }
  }
 },
 "nbformat": 4,
 "nbformat_minor": 5
}
